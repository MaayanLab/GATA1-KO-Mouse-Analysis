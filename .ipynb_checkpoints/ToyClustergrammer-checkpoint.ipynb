{
 "cells": [
  {
   "cell_type": "code",
   "execution_count": 1,
   "metadata": {
    "collapsed": false
   },
   "outputs": [
    {
     "data": {
      "application/vnd.jupyter.widget-view+json": {
       "model_id": "68c8d4905fa644e596524bb2e711dc1b"
      }
     },
     "metadata": {},
     "output_type": "display_data"
    }
   ],
   "source": [
    "# import the widget\n",
    "import pandas as pd\n",
    "import numpy as np\n",
    "from clustergrammer_widget import *\n",
    "from copy import deepcopy\n",
    "\n",
    "df = pd.DataFrame(np.random.rand(10,10),\n",
    "                  index=[ str(x) for x in range(10)]\n",
    "                  ,columns=[ str(x) for x in range(10)])\n",
    "net = deepcopy(Network())\n",
    "tmp = {}\n",
    "tmp[\"mat\"] = df\n",
    "net.df_to_dat(tmp)\n",
    "# net.load_file('rc_two_cats.txt')\n",
    "net.make_clust()\n",
    "\n",
    "clustergrammer_notebook(network = net.export_net_json())"
   ]
  },
  {
   "cell_type": "code",
   "execution_count": null,
   "metadata": {
    "collapsed": true
   },
   "outputs": [],
   "source": []
  }
 ],
 "metadata": {
  "anaconda-cloud": {},
  "kernelspec": {
   "display_name": "Python [Root]",
   "language": "python",
   "name": "Python [Root]"
  },
  "language_info": {
   "codemirror_mode": {
    "name": "ipython",
    "version": 2
   },
   "file_extension": ".py",
   "mimetype": "text/x-python",
   "name": "python",
   "nbconvert_exporter": "python",
   "pygments_lexer": "ipython2",
   "version": "2.7.12"
  },
  "widgets": {
   "application/vnd.jupyter.widget-state+json": {
    "state": {
     "4b1dffdb790a4772ab1acfa5bd21da7b": {
      "model_module": "jupyter-js-widgets",
      "model_module_version": "*",
      "model_name": "LayoutModel",
      "state": {}
     },
     "68c8d4905fa644e596524bb2e711dc1b": {
      "model_module": "clustergrammer_widget",
      "model_module_version": "*",
      "model_name": "hello_model",
      "state": {
       "_dom_classes": [],
       "_model_module_version": "*",
       "_view_module_version": "*",
       "layout": "IPY_MODEL_4b1dffdb790a4772ab1acfa5bd21da7b",
       "msg_throttle": 1,
       "network": "{\"row_nodes\": [{\"group\": [10.0, 10.0, 8.0, 7.0, 6.0, 3.0, 2.0, 2.0, 1.0, 1.0, 1.0], \"name\": \"0\", \"clust\": 2, \"rank\": 5, \"ini\": 10, \"rankvar\": 4}, {\"group\": [3.0, 3.0, 3.0, 3.0, 3.0, 2.0, 2.0, 2.0, 1.0, 1.0, 1.0], \"name\": \"1\", \"clust\": 8, \"rank\": 8, \"ini\": 9, \"rankvar\": 2}, {\"group\": [6.0, 6.0, 4.0, 3.0, 3.0, 2.0, 2.0, 2.0, 1.0, 1.0, 1.0], \"name\": \"2\", \"clust\": 6, \"rank\": 3, \"ini\": 8, \"rankvar\": 1}, {\"group\": [9.0, 9.0, 7.0, 6.0, 5.0, 2.0, 2.0, 2.0, 1.0, 1.0, 1.0], \"name\": \"3\", \"clust\": 3, \"rank\": 6, \"ini\": 7, \"rankvar\": 7}, {\"group\": [1.0, 1.0, 1.0, 1.0, 1.0, 1.0, 1.0, 1.0, 1.0, 1.0, 1.0], \"name\": \"4\", \"clust\": 0, \"rank\": 0, \"ini\": 6, \"rankvar\": 5}, {\"group\": [4.0, 4.0, 3.0, 3.0, 3.0, 2.0, 2.0, 2.0, 1.0, 1.0, 1.0], \"name\": \"5\", \"clust\": 9, \"rank\": 1, \"ini\": 5, \"rankvar\": 0}, {\"group\": [7.0, 7.0, 5.0, 4.0, 3.0, 2.0, 2.0, 2.0, 1.0, 1.0, 1.0], \"name\": \"6\", \"clust\": 5, \"rank\": 2, \"ini\": 4, \"rankvar\": 3}, {\"group\": [5.0, 5.0, 3.0, 3.0, 3.0, 2.0, 2.0, 2.0, 1.0, 1.0, 1.0], \"name\": \"7\", \"clust\": 7, \"rank\": 9, \"ini\": 3, \"rankvar\": 6}, {\"group\": [8.0, 8.0, 6.0, 5.0, 4.0, 2.0, 2.0, 2.0, 1.0, 1.0, 1.0], \"name\": \"8\", \"clust\": 4, \"rank\": 7, \"ini\": 2, \"rankvar\": 8}, {\"group\": [2.0, 2.0, 2.0, 2.0, 2.0, 1.0, 1.0, 1.0, 1.0, 1.0, 1.0], \"name\": \"9\", \"clust\": 1, \"rank\": 4, \"ini\": 1, \"rankvar\": 9}], \"col_nodes\": [{\"group\": [5.0, 5.0, 5.0, 4.0, 3.0, 2.0, 2.0, 1.0, 1.0, 1.0, 1.0], \"name\": \"0\", \"clust\": 5, \"rank\": 7, \"ini\": 10, \"rankvar\": 2}, {\"group\": [7.0, 7.0, 7.0, 5.0, 4.0, 2.0, 2.0, 1.0, 1.0, 1.0, 1.0], \"name\": \"1\", \"clust\": 8, \"rank\": 4, \"ini\": 9, \"rankvar\": 0}, {\"group\": [3.0, 3.0, 3.0, 2.0, 2.0, 1.0, 1.0, 1.0, 1.0, 1.0, 1.0], \"name\": \"2\", \"clust\": 2, \"rank\": 6, \"ini\": 8, \"rankvar\": 8}, {\"group\": [9.0, 9.0, 8.0, 6.0, 4.0, 2.0, 2.0, 1.0, 1.0, 1.0, 1.0], \"name\": \"3\", \"clust\": 7, \"rank\": 5, \"ini\": 7, \"rankvar\": 6}, {\"group\": [1.0, 1.0, 1.0, 1.0, 1.0, 1.0, 1.0, 1.0, 1.0, 1.0, 1.0], \"name\": \"4\", \"clust\": 0, \"rank\": 0, \"ini\": 6, \"rankvar\": 3}, {\"group\": [6.0, 6.0, 6.0, 4.0, 3.0, 2.0, 2.0, 1.0, 1.0, 1.0, 1.0], \"name\": \"5\", \"clust\": 6, \"rank\": 3, \"ini\": 5, \"rankvar\": 1}, {\"group\": [8.0, 8.0, 7.0, 5.0, 4.0, 2.0, 2.0, 1.0, 1.0, 1.0, 1.0], \"name\": \"6\", \"clust\": 9, \"rank\": 9, \"ini\": 4, \"rankvar\": 4}, {\"group\": [10.0, 10.0, 9.0, 7.0, 5.0, 3.0, 3.0, 1.0, 1.0, 1.0, 1.0], \"name\": \"7\", \"clust\": 4, \"rank\": 1, \"ini\": 3, \"rankvar\": 7}, {\"group\": [2.0, 2.0, 2.0, 1.0, 1.0, 1.0, 1.0, 1.0, 1.0, 1.0, 1.0], \"name\": \"8\", \"clust\": 1, \"rank\": 8, \"ini\": 2, \"rankvar\": 9}, {\"group\": [4.0, 4.0, 4.0, 3.0, 2.0, 1.0, 1.0, 1.0, 1.0, 1.0, 1.0], \"name\": \"9\", \"clust\": 3, \"rank\": 2, \"ini\": 1, \"rankvar\": 5}], \"links\": [{\"source\": 0, \"target\": 0, \"value\": 0.77195055587113071}, {\"source\": 0, \"target\": 1, \"value\": 0.20753232903238161}, {\"source\": 0, \"target\": 2, \"value\": 0.77002544259959127}, {\"source\": 0, \"target\": 3, \"value\": 0.52596621065706373}, {\"source\": 0, \"target\": 4, \"value\": 0.33426539586585879}, {\"source\": 0, \"target\": 5, \"value\": 0.70905962942994816}, {\"source\": 0, \"target\": 6, \"value\": 0.17245128205633908}, {\"source\": 0, \"target\": 7, \"value\": 0.3340626237322506}, {\"source\": 0, \"target\": 8, \"value\": 0.32198939608496668}, {\"source\": 0, \"target\": 9, \"value\": 0.88501352133511579}, {\"source\": 1, \"target\": 0, \"value\": 0.5729907610762095}, {\"source\": 1, \"target\": 1, \"value\": 0.69630173615714885}, {\"source\": 1, \"target\": 2, \"value\": 0.5757459902308808}, {\"source\": 1, \"target\": 3, \"value\": 0.73667461043181692}, {\"source\": 1, \"target\": 4, \"value\": 0.55219140975904879}, {\"source\": 1, \"target\": 5, \"value\": 0.38082500132956498}, {\"source\": 1, \"target\": 6, \"value\": 0.97120426801947246}, {\"source\": 1, \"target\": 7, \"value\": 0.48435519641191216}, {\"source\": 1, \"target\": 8, \"value\": 0.91255508968765997}, {\"source\": 1, \"target\": 9, \"value\": 0.12638088803539993}, {\"source\": 2, \"target\": 0, \"value\": 0.70302173718807426}, {\"source\": 2, \"target\": 1, \"value\": 0.102187273472086}, {\"source\": 2, \"target\": 2, \"value\": 0.6344581322756504}, {\"source\": 2, \"target\": 3, \"value\": 0.33093751256966852}, {\"source\": 2, \"target\": 4, \"value\": 0.50296079199241162}, {\"source\": 2, \"target\": 5, \"value\": 0.15454062748162356}, {\"source\": 2, \"target\": 6, \"value\": 0.45400481271147086}, {\"source\": 2, \"target\": 7, \"value\": 0.5157801740274659}, {\"source\": 2, \"target\": 8, \"value\": 0.82069144476071465}, {\"source\": 2, \"target\": 9, \"value\": 0.46701102310275477}, {\"source\": 3, \"target\": 0, \"value\": 0.19597745637554742}, {\"source\": 3, \"target\": 1, \"value\": 0.29806810060545641}, {\"source\": 3, \"target\": 2, \"value\": 0.80084031739881634}, {\"source\": 3, \"target\": 3, \"value\": 0.10739214325307}, {\"source\": 3, \"target\": 4, \"value\": 0.8184510119002858}, {\"source\": 3, \"target\": 5, \"value\": 0.36874563307942609}, {\"source\": 3, \"target\": 6, \"value\": 0.67987400238347007}, {\"source\": 3, \"target\": 7, \"value\": 0.78076092989031054}, {\"source\": 3, \"target\": 8, \"value\": 0.61560578539606758}, {\"source\": 3, \"target\": 9, \"value\": 0.80379299009345406}, {\"source\": 4, \"target\": 0, \"value\": 0.5864360647452167}, {\"source\": 4, \"target\": 1, \"value\": 0.45648332647091105}, {\"source\": 4, \"target\": 2, \"value\": 0.37193210971548341}, {\"source\": 4, \"target\": 3, \"value\": 0.15563313162640291}, {\"source\": 4, \"target\": 4, \"value\": 0.011745941851581954}, {\"source\": 4, \"target\": 5, \"value\": 0.30574592213578899}, {\"source\": 4, \"target\": 6, \"value\": 0.82458329600200386}, {\"source\": 4, \"target\": 7, \"value\": 0.060474958129280276}, {\"source\": 4, \"target\": 8, \"value\": 0.072278841552500861}, {\"source\": 4, \"target\": 9, \"value\": 0.14971613626771929}, {\"source\": 5, \"target\": 0, \"value\": 0.60095404708755162}, {\"source\": 5, \"target\": 1, \"value\": 0.36499758823886763}, {\"source\": 5, \"target\": 2, \"value\": 0.41367924682610413}, {\"source\": 5, \"target\": 3, \"value\": 0.42934158837823122}, {\"source\": 5, \"target\": 4, \"value\": 0.47508073726230737}, {\"source\": 5, \"target\": 5, \"value\": 0.50889412375825605}, {\"source\": 5, \"target\": 6, \"value\": 0.52992434618360928}, {\"source\": 5, \"target\": 7, \"value\": 0.10984116827312895}, {\"source\": 5, \"target\": 8, \"value\": 0.78781867566443242}, {\"source\": 5, \"target\": 9, \"value\": 0.20081579799155602}, {\"source\": 6, \"target\": 0, \"value\": 0.2611888577974637}, {\"source\": 6, \"target\": 1, \"value\": 0.66094279283413548}, {\"source\": 6, \"target\": 2, \"value\": 0.97453897142667978}, {\"source\": 6, \"target\": 3, \"value\": 0.37893846154127309}, {\"source\": 6, \"target\": 4, \"value\": 0.27820960213448298}, {\"source\": 6, \"target\": 5, \"value\": 0.32318666098738313}, {\"source\": 6, \"target\": 6, \"value\": 0.35067929276669352}, {\"source\": 6, \"target\": 7, \"value\": 0.16831163678551353}, {\"source\": 6, \"target\": 8, \"value\": 0.75604041123885846}, {\"source\": 6, \"target\": 9, \"value\": 0.29175462015774545}, {\"source\": 7, \"target\": 0, \"value\": 0.58041179173306767}, {\"source\": 7, \"target\": 1, \"value\": 0.41503732362995183}, {\"source\": 7, \"target\": 2, \"value\": 0.95523742676397494}, {\"source\": 7, \"target\": 3, \"value\": 0.98032566056814041}, {\"source\": 7, \"target\": 4, \"value\": 0.63991021919108693}, {\"source\": 7, \"target\": 5, \"value\": 0.49114908997422668}, {\"source\": 7, \"target\": 6, \"value\": 0.84413661678043084}, {\"source\": 7, \"target\": 7, \"value\": 0.16186753863417846}, {\"source\": 7, \"target\": 8, \"value\": 0.90138000997875523}, {\"source\": 7, \"target\": 9, \"value\": 0.67856995859090241}, {\"source\": 8, \"target\": 0, \"value\": 0.96293212815517037}, {\"source\": 8, \"target\": 1, \"value\": 0.57341712817537061}, {\"source\": 8, \"target\": 2, \"value\": 0.073965056954354291}, {\"source\": 8, \"target\": 3, \"value\": 0.44091877977789851}, {\"source\": 8, \"target\": 4, \"value\": 0.31048458695929659}, {\"source\": 8, \"target\": 5, \"value\": 0.8851982811475233}, {\"source\": 8, \"target\": 6, \"value\": 0.66812468186214891}, {\"source\": 8, \"target\": 7, \"value\": 0.57133324899704718}, {\"source\": 8, \"target\": 8, \"value\": 0.91781865616907932}, {\"source\": 8, \"target\": 9, \"value\": 0.33338515131053192}, {\"source\": 9, \"target\": 0, \"value\": 0.7829747840192679}, {\"source\": 9, \"target\": 1, \"value\": 0.65659371329181515}, {\"source\": 9, \"target\": 2, \"value\": 0.14822482134459458}, {\"source\": 9, \"target\": 3, \"value\": 0.82947207018949376}, {\"source\": 9, \"target\": 4, \"value\": 0.095064722638158683}, {\"source\": 9, \"target\": 5, \"value\": 0.24483946727914363}, {\"source\": 9, \"target\": 6, \"value\": 0.89844401463258927}, {\"source\": 9, \"target\": 7, \"value\": 0.87357428303072204}, {\"source\": 9, \"target\": 8, \"value\": 0.089640864381856367}, {\"source\": 9, \"target\": 9, \"value\": 0.22543928800672686}], \"views\": [{\"N_row_sum\": \"all\", \"dist\": \"cos\", \"nodes\": {\"row_nodes\": [{\"group\": [10.0, 10.0, 8.0, 7.0, 6.0, 3.0, 2.0, 2.0, 1.0, 1.0, 1.0], \"name\": \"0\", \"clust\": 2, \"rank\": 5, \"ini\": 10, \"rankvar\": 4}, {\"group\": [3.0, 3.0, 3.0, 3.0, 3.0, 2.0, 2.0, 2.0, 1.0, 1.0, 1.0], \"name\": \"1\", \"clust\": 8, \"rank\": 8, \"ini\": 9, \"rankvar\": 2}, {\"group\": [6.0, 6.0, 4.0, 3.0, 3.0, 2.0, 2.0, 2.0, 1.0, 1.0, 1.0], \"name\": \"2\", \"clust\": 6, \"rank\": 3, \"ini\": 8, \"rankvar\": 1}, {\"group\": [9.0, 9.0, 7.0, 6.0, 5.0, 2.0, 2.0, 2.0, 1.0, 1.0, 1.0], \"name\": \"3\", \"clust\": 3, \"rank\": 6, \"ini\": 7, \"rankvar\": 7}, {\"group\": [1.0, 1.0, 1.0, 1.0, 1.0, 1.0, 1.0, 1.0, 1.0, 1.0, 1.0], \"name\": \"4\", \"clust\": 0, \"rank\": 0, \"ini\": 6, \"rankvar\": 5}, {\"group\": [4.0, 4.0, 3.0, 3.0, 3.0, 2.0, 2.0, 2.0, 1.0, 1.0, 1.0], \"name\": \"5\", \"clust\": 9, \"rank\": 1, \"ini\": 5, \"rankvar\": 0}, {\"group\": [7.0, 7.0, 5.0, 4.0, 3.0, 2.0, 2.0, 2.0, 1.0, 1.0, 1.0], \"name\": \"6\", \"clust\": 5, \"rank\": 2, \"ini\": 4, \"rankvar\": 3}, {\"group\": [5.0, 5.0, 3.0, 3.0, 3.0, 2.0, 2.0, 2.0, 1.0, 1.0, 1.0], \"name\": \"7\", \"clust\": 7, \"rank\": 9, \"ini\": 3, \"rankvar\": 6}, {\"group\": [8.0, 8.0, 6.0, 5.0, 4.0, 2.0, 2.0, 2.0, 1.0, 1.0, 1.0], \"name\": \"8\", \"clust\": 4, \"rank\": 7, \"ini\": 2, \"rankvar\": 8}, {\"group\": [2.0, 2.0, 2.0, 2.0, 2.0, 1.0, 1.0, 1.0, 1.0, 1.0, 1.0], \"name\": \"9\", \"clust\": 1, \"rank\": 4, \"ini\": 1, \"rankvar\": 9}], \"col_nodes\": [{\"group\": [5.0, 5.0, 5.0, 4.0, 3.0, 2.0, 2.0, 1.0, 1.0, 1.0, 1.0], \"name\": \"0\", \"clust\": 5, \"rank\": 7, \"ini\": 10, \"rankvar\": 2}, {\"group\": [7.0, 7.0, 7.0, 5.0, 4.0, 2.0, 2.0, 1.0, 1.0, 1.0, 1.0], \"name\": \"1\", \"clust\": 8, \"rank\": 4, \"ini\": 9, \"rankvar\": 0}, {\"group\": [3.0, 3.0, 3.0, 2.0, 2.0, 1.0, 1.0, 1.0, 1.0, 1.0, 1.0], \"name\": \"2\", \"clust\": 2, \"rank\": 6, \"ini\": 8, \"rankvar\": 8}, {\"group\": [9.0, 9.0, 8.0, 6.0, 4.0, 2.0, 2.0, 1.0, 1.0, 1.0, 1.0], \"name\": \"3\", \"clust\": 7, \"rank\": 5, \"ini\": 7, \"rankvar\": 6}, {\"group\": [1.0, 1.0, 1.0, 1.0, 1.0, 1.0, 1.0, 1.0, 1.0, 1.0, 1.0], \"name\": \"4\", \"clust\": 0, \"rank\": 0, \"ini\": 6, \"rankvar\": 3}, {\"group\": [6.0, 6.0, 6.0, 4.0, 3.0, 2.0, 2.0, 1.0, 1.0, 1.0, 1.0], \"name\": \"5\", \"clust\": 6, \"rank\": 3, \"ini\": 5, \"rankvar\": 1}, {\"group\": [8.0, 8.0, 7.0, 5.0, 4.0, 2.0, 2.0, 1.0, 1.0, 1.0, 1.0], \"name\": \"6\", \"clust\": 9, \"rank\": 9, \"ini\": 4, \"rankvar\": 4}, {\"group\": [10.0, 10.0, 9.0, 7.0, 5.0, 3.0, 3.0, 1.0, 1.0, 1.0, 1.0], \"name\": \"7\", \"clust\": 4, \"rank\": 1, \"ini\": 3, \"rankvar\": 7}, {\"group\": [2.0, 2.0, 2.0, 1.0, 1.0, 1.0, 1.0, 1.0, 1.0, 1.0, 1.0], \"name\": \"8\", \"clust\": 1, \"rank\": 8, \"ini\": 2, \"rankvar\": 9}, {\"group\": [4.0, 4.0, 4.0, 3.0, 2.0, 1.0, 1.0, 1.0, 1.0, 1.0, 1.0], \"name\": \"9\", \"clust\": 3, \"rank\": 2, \"ini\": 1, \"rankvar\": 5}]}}, {\"N_row_var\": \"all\", \"nodes\": {\"row_nodes\": [{\"group\": [10.0, 10.0, 8.0, 7.0, 6.0, 3.0, 2.0, 2.0, 1.0, 1.0, 1.0], \"name\": \"0\", \"clust\": 2, \"rank\": 5, \"ini\": 10, \"rankvar\": 4}, {\"group\": [3.0, 3.0, 3.0, 3.0, 3.0, 2.0, 2.0, 2.0, 1.0, 1.0, 1.0], \"name\": \"1\", \"clust\": 8, \"rank\": 8, \"ini\": 9, \"rankvar\": 2}, {\"group\": [6.0, 6.0, 4.0, 3.0, 3.0, 2.0, 2.0, 2.0, 1.0, 1.0, 1.0], \"name\": \"2\", \"clust\": 6, \"rank\": 3, \"ini\": 8, \"rankvar\": 1}, {\"group\": [9.0, 9.0, 7.0, 6.0, 5.0, 2.0, 2.0, 2.0, 1.0, 1.0, 1.0], \"name\": \"3\", \"clust\": 3, \"rank\": 6, \"ini\": 7, \"rankvar\": 7}, {\"group\": [1.0, 1.0, 1.0, 1.0, 1.0, 1.0, 1.0, 1.0, 1.0, 1.0, 1.0], \"name\": \"4\", \"clust\": 0, \"rank\": 0, \"ini\": 6, \"rankvar\": 5}, {\"group\": [4.0, 4.0, 3.0, 3.0, 3.0, 2.0, 2.0, 2.0, 1.0, 1.0, 1.0], \"name\": \"5\", \"clust\": 9, \"rank\": 1, \"ini\": 5, \"rankvar\": 0}, {\"group\": [7.0, 7.0, 5.0, 4.0, 3.0, 2.0, 2.0, 2.0, 1.0, 1.0, 1.0], \"name\": \"6\", \"clust\": 5, \"rank\": 2, \"ini\": 4, \"rankvar\": 3}, {\"group\": [5.0, 5.0, 3.0, 3.0, 3.0, 2.0, 2.0, 2.0, 1.0, 1.0, 1.0], \"name\": \"7\", \"clust\": 7, \"rank\": 9, \"ini\": 3, \"rankvar\": 6}, {\"group\": [8.0, 8.0, 6.0, 5.0, 4.0, 2.0, 2.0, 2.0, 1.0, 1.0, 1.0], \"name\": \"8\", \"clust\": 4, \"rank\": 7, \"ini\": 2, \"rankvar\": 8}, {\"group\": [2.0, 2.0, 2.0, 2.0, 2.0, 1.0, 1.0, 1.0, 1.0, 1.0, 1.0], \"name\": \"9\", \"clust\": 1, \"rank\": 4, \"ini\": 1, \"rankvar\": 9}], \"col_nodes\": [{\"group\": [5.0, 5.0, 5.0, 4.0, 3.0, 2.0, 2.0, 1.0, 1.0, 1.0, 1.0], \"name\": \"0\", \"clust\": 5, \"rank\": 7, \"ini\": 10, \"rankvar\": 2}, {\"group\": [7.0, 7.0, 7.0, 5.0, 4.0, 2.0, 2.0, 1.0, 1.0, 1.0, 1.0], \"name\": \"1\", \"clust\": 8, \"rank\": 4, \"ini\": 9, \"rankvar\": 0}, {\"group\": [3.0, 3.0, 3.0, 2.0, 2.0, 1.0, 1.0, 1.0, 1.0, 1.0, 1.0], \"name\": \"2\", \"clust\": 2, \"rank\": 6, \"ini\": 8, \"rankvar\": 8}, {\"group\": [9.0, 9.0, 8.0, 6.0, 4.0, 2.0, 2.0, 1.0, 1.0, 1.0, 1.0], \"name\": \"3\", \"clust\": 7, \"rank\": 5, \"ini\": 7, \"rankvar\": 6}, {\"group\": [1.0, 1.0, 1.0, 1.0, 1.0, 1.0, 1.0, 1.0, 1.0, 1.0, 1.0], \"name\": \"4\", \"clust\": 0, \"rank\": 0, \"ini\": 6, \"rankvar\": 3}, {\"group\": [6.0, 6.0, 6.0, 4.0, 3.0, 2.0, 2.0, 1.0, 1.0, 1.0, 1.0], \"name\": \"5\", \"clust\": 6, \"rank\": 3, \"ini\": 5, \"rankvar\": 1}, {\"group\": [8.0, 8.0, 7.0, 5.0, 4.0, 2.0, 2.0, 1.0, 1.0, 1.0, 1.0], \"name\": \"6\", \"clust\": 9, \"rank\": 9, \"ini\": 4, \"rankvar\": 4}, {\"group\": [10.0, 10.0, 9.0, 7.0, 5.0, 3.0, 3.0, 1.0, 1.0, 1.0, 1.0], \"name\": \"7\", \"clust\": 4, \"rank\": 1, \"ini\": 3, \"rankvar\": 7}, {\"group\": [2.0, 2.0, 2.0, 1.0, 1.0, 1.0, 1.0, 1.0, 1.0, 1.0, 1.0], \"name\": \"8\", \"clust\": 1, \"rank\": 8, \"ini\": 2, \"rankvar\": 9}, {\"group\": [4.0, 4.0, 4.0, 3.0, 2.0, 1.0, 1.0, 1.0, 1.0, 1.0, 1.0], \"name\": \"9\", \"clust\": 3, \"rank\": 2, \"ini\": 1, \"rankvar\": 5}]}, \"dist\": \"cos\"}]}",
       "viz_title": "updating python by restarting kernel"
      }
     }
    },
    "version_major": 1,
    "version_minor": 0
   }
  }
 },
 "nbformat": 4,
 "nbformat_minor": 0
}
