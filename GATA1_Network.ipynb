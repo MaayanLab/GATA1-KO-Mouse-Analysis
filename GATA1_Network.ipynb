{
 "cells": [
  {
   "cell_type": "code",
   "execution_count": 84,
   "metadata": {},
   "outputs": [],
   "source": [
    "# Load dependencies\n",
    "%matplotlib inline\n",
    "import matplotlib\n",
    "import matplotlib.pyplot as plt\n",
    "\n",
    "import pandas as pd\n",
    "import numpy as np\n",
    "import pylab as pl\n",
    "\n",
    "import itertools\n",
    "from chdir import chdir\n",
    "\n",
    "from sklearn import decomposition\n",
    "from scipy.stats import zscore\n",
    "from IPython.display import display, HTML, Image\n",
    "\n",
    "pd.options.mode.chained_assignment = None"
   ]
  },
  {
   "cell_type": "code",
   "execution_count": 114,
   "metadata": {
    "collapsed": true
   },
   "outputs": [],
   "source": [
    "rid2sig = pd.read_table('rid2symbol.txt',header=None)\n",
    "ensg2sig = pd.read_table('ensg2symbol.txt',header=None)\n",
    "\n",
    "genesymbols = np.unique(rid2sig.iloc[:,1].tolist() + ensg2sig.iloc[:,1].tolist())"
   ]
  },
  {
   "cell_type": "code",
   "execution_count": 85,
   "metadata": {},
   "outputs": [
    {
     "name": "stdout",
     "output_type": "stream",
     "text": [
      "28612 28612\n",
      "(28612, 6)\n",
      "(28612, 6)\n"
     ]
    }
   ],
   "source": [
    "control = ['cd1','cd2','cd3']\n",
    "treated = ['gat1','gat2','gat3']\n",
    "\n",
    "# Load data\n",
    "dat = {}\n",
    "df = pd.read_table('GATA1_marrow_foldchange.txt',sep='\\t',index_col=0)[control + treated]\n",
    "dat['marrow'] = df[np.std(df,axis=1) != 0]\n",
    "df = pd.read_table('GATA1_spleen_foldchange.txt',sep='\\t',index_col=0)[control + treated]\n",
    "dat['spleen'] = df[np.std(df,axis=1) != 0]\n",
    "\n",
    "genes = np.sort(np.intersect1d(dat['marrow'].index.values, dat['spleen'].index.values))\n",
    "\n",
    "dat['marrow'] = dat['marrow'].loc[genes].reindex(genes)\n",
    "dat['spleen'] = dat['spleen'].loc[genes].reindex(genes)\n",
    "\n",
    "print len(dat['spleen'].index), len(np.unique(dat['spleen'].index))\n",
    "\n",
    "print dat['marrow'].shape\n",
    "print dat['spleen'].shape\n",
    "\n",
    "dgenes = ['STAT1','STAT3','STAT5A','STAT5B','SMAD2','SMAD3','GATA1','GATA2','JUN']\n",
    "\n",
    "def do_chdir(C,T,genes):\n",
    "    ctr = dat[tissue][list(C)]\n",
    "    trt = dat[tissue][list(T)]\n",
    "    name = ''.join([ C[i][-1] for i in range(len(C))])+'-'+''.join([ T[i][-1] for i in range(len(T))])\n",
    "    chGenes, chVec = chdir(ctr,trt,genes)\n",
    "    return pd.Series(chVec, name=name, index=chGenes)\n",
    "    "
   ]
  },
  {
   "cell_type": "code",
   "execution_count": 86,
   "metadata": {
    "scrolled": false
   },
   "outputs": [
    {
     "data": {
      "image/png": "[encoded data removed]",
      "text/plain": [
       "<matplotlib.figure.Figure at 0x116912550>"
      ]
     },
     "metadata": {},
     "output_type": "display_data"
    }
   ],
   "source": [
    "control = ['cd1','cd2','cd3']\n",
    "treated = ['gat1','gat2','gat3']\n",
    "\n",
    "corr = {}\n",
    "\n",
    "for tissue in dat.keys():\n",
    "    frames = []\n",
    "    for C in itertools.combinations(control, 2):\n",
    "        for T in itertools.combinations(treated, 2):\n",
    "            frames.append( do_chdir(C,T,genes) )\n",
    "            \n",
    "    df = pd.concat(frames,axis=1)\n",
    "    corr[tissue] = pd.DataFrame(np.corrcoef(df.values), index=df.index, columns=df.index)\n",
    "\n",
    "\n",
    "plt.subplot(221)\n",
    "mat = corr['spleen'].loc[dgenes,dgenes]\n",
    "pl.pcolor(mat, cmap='RdBu')\n",
    "pl.colorbar()\n",
    "\n",
    "plt.subplot(222)\n",
    "mat = corr['marrow'].loc[dgenes,dgenes]\n",
    "pl.pcolor(mat, cmap='RdBu')\n",
    "pl.colorbar()\n",
    "\n",
    "pl.show()\n"
   ]
  },
  {
   "cell_type": "code",
   "execution_count": 115,
   "metadata": {},
   "outputs": [
    {
     "name": "stdout",
     "output_type": "stream",
     "text": [
      "719\n",
      "(719, 719)\n",
      "True\n"
     ]
    }
   ],
   "source": [
    "cutoff = 0.9\n",
    "\n",
    "spleen_degs = pd.read_table('spleen_cd_DEGs_filt.txt',index_col=0).index.values\n",
    "marrow_degs = pd.read_table('marrow_cd_DEGs_filt.txt',index_col=0).index.values\n",
    "\n",
    "spleen_degs = [ x for x in spleen_degs if x in genesymbols ]\n",
    "\n",
    "print len(spleen_degs)\n",
    "\n",
    "A = corr['spleen'].loc[spleen_degs,spleen_degs].fillna(0.0)\n",
    "\n",
    "print A.shape\n",
    "\n",
    "# Build adjacency matrix\n",
    "A[ abs(A) < cutoff ] = 0\n",
    "A[ abs(A) >= cutoff ] = 1\n",
    "\n",
    "nonempty = np.sum(A, axis=1) > 2\n",
    "print nonempty[0]\n",
    "\n",
    "A = A.loc[nonempty,nonempty]\n"
   ]
  },
  {
   "cell_type": "code",
   "execution_count": 132,
   "metadata": {},
   "outputs": [
    {
     "name": "stdout",
     "output_type": "stream",
     "text": [
      "5\n",
      "Clustering with 711 elements and 5 clusters\n",
      "None\n"
     ]
    }
   ],
   "source": [
    "# from igraph import *\n",
    "import igraph as ig\n",
    "# g = Graph()\n",
    "\n",
    "# g = ig.Graph.Erdos_Renyi(n=10, m=16)\n",
    "# g.vs[\"name\"] = [ str(x) for x in range(10) ]\n",
    "# g.vs[\"label\"] = g.vs[\"name\"]\n",
    "# color_dict = { True:\"blue\",False,\"red\" }\n",
    "\n",
    "# print \"degrees:\",g.degree()\n",
    "# g = Graph.Adjacency(A)\n",
    "\n",
    "# clust = g.community_leading_eigenvector()\n",
    "# print summary(clust)\n",
    "\n",
    "mat = A.values\n",
    "np.fill_diagonal(mat,0.0)\n",
    "\n",
    "g = ig.Graph.Adjacency(mat.tolist()).as_undirected()\n",
    "g.vs[\"label\"] = A.index.values\n",
    "cg = g.community_leading_eigenvector()\n",
    "subgraphs = cg.subgraphs()\n",
    "print len(subgraphs)\n",
    "\n",
    "layout = g.layout_kamada_kawai()\n",
    "\n",
    "for i in range(len(subgraphs)):\n",
    "    subg = subgraphs[i]\n",
    "    genes = subg.vs[\"label\"]\n",
    "    with open(\"network\"+str(i)+\".txt\",'w') as f: f.write('\\n'.join(genes)+'\\n')\n",
    "    plot(subgraphs[i], \"network\"+str(i)+\".pdf\", layout = layout, bbox = (800, 800), margin = 20)\n",
    "\n",
    "\n",
    "# singletons = cg.vs.select(_degree=0)\n",
    "# cg.delete_vertices(singletons)\n",
    "print summary(cg)\n",
    "\n",
    "# layout = g.layout_fruchterman_reingold()\n",
    "layout = g.layout_kamada_kawai()\n",
    "\n",
    "# plot(cg, \"network.pdf\", layout = layout,\n",
    "# #      vertex_color = [ \"red\" if int(x)%2==0 else \"blue\" for x in g.vs[\"name\"] ],\n",
    "#      bbox = (1000, 1000), margin = 20)\n"
   ]
  },
  {
   "cell_type": "code",
   "execution_count": 24,
   "metadata": {},
   "outputs": [
    {
     "name": "stdout",
     "output_type": "stream",
     "text": [
      "['0', '1', '2', '3', '4', '5', '6', '7', '8', '9']\n"
     ]
    }
   ],
   "source": [
    "print g.vs[\"name\"]"
   ]
  },
  {
   "cell_type": "code",
   "execution_count": 50,
   "metadata": {},
   "outputs": [
    {
     "data": {
      "image/png": "[encoded data removed]",
      "text/plain": [
       "<matplotlib.figure.Figure at 0x42d16efd0>"
      ]
     },
     "metadata": {},
     "output_type": "display_data"
    }
   ],
   "source": [
    "import networkx as nx\n",
    "G = nx.Graph()\n",
    "# nx.draw_random(G)\n",
    "G = nx.complete_graph(10)\n",
    "# nx.draw_random(G)\n",
    "# nx.draw_circular(G)\n",
    "nx.draw_spectral(G)\n",
    "plt.show()\n",
    "# plt.savefig(\"path.png\")"
   ]
  },
  {
   "cell_type": "code",
   "execution_count": null,
   "metadata": {
    "collapsed": true
   },
   "outputs": [],
   "source": []
  }
 ],
 "metadata": {
  "anaconda-cloud": {},
  "kernelspec": {
   "display_name": "Python 2",
   "language": "python",
   "name": "python2"
  },
  "language_info": {
   "codemirror_mode": {
    "name": "ipython",
    "version": 2
   },
   "file_extension": ".py",
   "mimetype": "text/x-python",
   "name": "python",
   "nbconvert_exporter": "python",
   "pygments_lexer": "ipython2",
   "version": "2.7.13"
  }
 },
 "nbformat": 4,
 "nbformat_minor": 1
}
